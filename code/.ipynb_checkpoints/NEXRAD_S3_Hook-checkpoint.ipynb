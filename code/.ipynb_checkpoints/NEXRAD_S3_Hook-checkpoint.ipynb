{
 "cells": [
  {
   "cell_type": "code",
   "execution_count": 1,
   "metadata": {
    "collapsed": true
   },
   "outputs": [],
   "source": [
    "%matplotlib inline\n",
    "from matplotlib import pyplot as plt\n",
    "import numpy as np\n",
    "import boto\n",
    "import subprocess\n",
    "import os\n",
    "from netCDF4 import Dataset"
   ]
  },
  {
   "cell_type": "code",
   "execution_count": 2,
   "metadata": {
    "collapsed": false
   },
   "outputs": [
    {
     "name": "stdout",
     "output_type": "stream",
     "text": [
      "2014/05/08/KFWS/KFWS20140508_153108_V06.gz\n",
      "KFWS20140508_153108_V06.gz\n"
     ]
    }
   ],
   "source": [
    "# read a volume scan file on S3. I happen to know this file exists.\n",
    "s3conn = boto.connect_s3()\n",
    "bucket = s3conn.get_bucket('noaa-nexrad-level2')\n",
    "# KVWX20150515_080737_V06.gz KFWS20140508_153108_V06.gz\n",
    "# File structure for NEXRAD s3 is YYYY/MM/DD/SITE/filename\n",
    "#Pick the NEXRAD radar to retrieve the data from \n",
    "NEXRAD = 'KFWS'\n",
    "yr = '2014'\n",
    "month = '05'\n",
    "day = '08'\n",
    "\n",
    "NEXRAD_file_folder = yr + os.sep + month + os.sep + day + os.sep + NEXRAD + os.sep + 'KFWS20140508_153108_V06.gz'\n",
    "print NEXRAD_file_folder\n",
    "s3key = bucket.get_key(NEXRAD_file_folder)\n",
    "s3key.get_contents_to_filename(s3key.key.split('/')[-1])\n",
    "# Extract file using GNU tar utility tar -xzvf file.tar.gz\n",
    "subprocess.call(['gzip','-d',str(s3key.key.split('/')[-1])])\n",
    "print str(s3key.key.split('/')[-1])"
   ]
  },
  {
   "cell_type": "code",
   "execution_count": 3,
   "metadata": {
    "collapsed": false
   },
   "outputs": [
    {
     "name": "stdout",
     "output_type": "stream",
     "text": [
      "KFWS20140508_153108_V06\n"
     ]
    }
   ],
   "source": [
    "netcdf_file = s3key.key.split('/')[-1].split('.')[0]\n",
    "print netcdf_file"
   ]
  },
  {
   "cell_type": "code",
   "execution_count": 4,
   "metadata": {
    "collapsed": false
   },
   "outputs": [
    {
     "data": {
      "text/plain": [
       "0"
      ]
     },
     "execution_count": 4,
     "metadata": {},
     "output_type": "execute_result"
    }
   ],
   "source": [
    "# Read to netcdf file using the toolsUI-4.6.jar utility \n",
    "ucar = 'ucar.nc2.FileWriter'\n",
    "java_script = 'toolsUI-4.6.jar'\n",
    "subprocess.call(['java','-classpath',java_script,ucar,'-in',netcdf_file,'-out',netcdf_file + '.nc'])\n"
   ]
  },
  {
   "cell_type": "code",
   "execution_count": 5,
   "metadata": {
    "collapsed": false
   },
   "outputs": [
    {
     "name": "stdout",
     "output_type": "stream",
     "text": [
      "[u'Reflectivity_HI', u'timeR_HI', u'elevationR_HI', u'azimuthR_HI', u'distanceR_HI', u'numRadialsR_HI', u'numGatesR_HI', u'Reflectivity', u'timeR', u'elevationR', u'azimuthR', u'distanceR', u'numRadialsR', u'numGatesR', u'RadialVelocity_HI', u'timeV_HI', u'elevationV_HI', u'azimuthV_HI', u'distanceV_HI', u'numRadialsV_HI', u'numGatesV_HI', u'RadialVelocity', u'timeV', u'elevationV', u'azimuthV', u'distanceV', u'numRadialsV', u'numGatesV', u'SpectrumWidth_HI', u'SpectrumWidth', u'DifferentialReflectivity_HI', u'timeD_HI', u'elevationD_HI', u'azimuthD_HI', u'distanceD_HI', u'numRadialsD_HI', u'numGatesD_HI', u'DifferentialReflectivity', u'timeD', u'elevationD', u'azimuthD', u'distanceD', u'numRadialsD', u'numGatesD', u'CorrelationCoefficient_HI', u'timeC_HI', u'elevationC_HI', u'azimuthC_HI', u'distanceC_HI', u'numRadialsC_HI', u'numGatesC_HI', u'CorrelationCoefficient', u'timeC', u'elevationC', u'azimuthC', u'distanceC', u'numRadialsC', u'numGatesC', u'DifferentialPhase_HI', u'timeP_HI', u'elevationP_HI', u'azimuthP_HI', u'distanceP_HI', u'numRadialsP_HI', u'numGatesP_HI', u'DifferentialPhase', u'timeP', u'elevationP', u'azimuthP', u'distanceP', u'numRadialsP', u'numGatesP']\n"
     ]
    }
   ],
   "source": [
    "level_2_products = Dataset(netcdf_file + '.nc')\n",
    "level_3_products = Dataset('../data/RadarData/NEXRAD/2014/MAY08/KFWD_SDUS54_N0RFWS_201405081531.nc')\n",
    "print level_2_products.variables.keys()"
   ]
  },
  {
   "cell_type": "code",
   "execution_count": 6,
   "metadata": {
    "collapsed": false
   },
   "outputs": [
    {
     "name": "stdout",
     "output_type": "stream",
     "text": [
      "[u'elevation', u'azimuth', u'gate', u'latitude', u'longitude', u'altitude', u'rays_time', u'BaseReflectivity_RAW', u'BaseReflectivity']\n"
     ]
    }
   ],
   "source": [
    "print level_3_products.variables.keys()"
   ]
  },
  {
   "cell_type": "code",
   "execution_count": 7,
   "metadata": {
    "collapsed": true
   },
   "outputs": [],
   "source": [
    "def cart2pol(x,y):\n",
    "    r = np.sqrt(np.power(x,2) + np.power(y,2))\n",
    "    theta = np.degrees(np.arctan2(y,x))\n",
    "    return theta,r\n",
    "\n",
    "m = 100\n",
    "\n",
    "gridZ = np.empty((m,m))\n",
    "gridZ.fill(np.nan)\n",
    "# Make the 150x150 km grid\n",
    "gridX = np.arange(-150.0,151.0,300.0/(m-1))\n",
    "gridY = np.arange(-150.0,151.0,300.0/(m-1))\n",
    "\n",
    "xMesh,yMesh = np.meshgrid(gridX,gridY)\n",
    "\n",
    "# Convert this grid to polar coordinates to match the values with obtained from the netcdf file\n",
    "gridA,gridR = cart2pol(xMesh,yMesh)\n",
    "\n",
    "# Convert from [-180.0,180] to [0,360.0]\n",
    "gridA[gridA < 0.0] = 360.0 + gridA[gridA < 0.0]\n"
   ]
  },
  {
   "cell_type": "code",
   "execution_count": 8,
   "metadata": {
    "collapsed": false
   },
   "outputs": [
    {
     "name": "stdout",
     "output_type": "stream",
     "text": [
      "[  0.   5.  10.  15.  20.  25.  30.  35.  40.  45.  50.  55.] 0.0 55.0\n"
     ]
    }
   ],
   "source": [
    "# The variables we are going to need are reflectivity, azimuthR, numGatesR\n",
    "azimuthVector = level_2_products.variables['azimuthR'][0,...]\n",
    "rangeVector = level_2_products.variables['distanceR'][:]\n",
    "Z = level_2_products.variables['Reflectivity_HI'][0,...]\n",
    "Z_level3 = level_3_products.variables['BaseReflectivity'][:]\n",
    "Z_level3[np.isnan(Z_level3)] = 0.0\n",
    "level_2_refl = np.array(Z)\n",
    "level_2_refl[level_2_refl < 0.0] = 0.0\n",
    "print np.unique(Z_level3),np.min(Z_level3),np.max(Z_level3)"
   ]
  },
  {
   "cell_type": "code",
   "execution_count": 9,
   "metadata": {
    "collapsed": false
   },
   "outputs": [
    {
     "name": "stdout",
     "output_type": "stream",
     "text": [
      "[  0.    0.5   1.    1.5   2.    2.5   3.    3.5   4.    4.5   5.    5.5\n",
      "   6.    6.5   7.    7.5   8.    8.5   9.    9.5  10.   10.5  11.   11.5\n",
      "  12.   12.5  13.   13.5  14.   14.5  15.   15.5  16.   16.5  17.   17.5\n",
      "  18.   18.5  19.   19.5  20.   20.5  21.   21.5  22.   22.5  23.   23.5\n",
      "  24.   24.5  25.   25.5  26.   26.5  27.   27.5  28.   28.5  29.   29.5\n",
      "  30.   30.5] 0.0 30.5\n"
     ]
    }
   ],
   "source": [
    "\n",
    "print np.unique(level_2_refl),np.min(level_2_refl),np.max(level_2_refl)"
   ]
  },
  {
   "cell_type": "code",
   "execution_count": 81,
   "metadata": {
    "collapsed": false
   },
   "outputs": [
    {
     "name": "stdout",
     "output_type": "stream",
     "text": [
      "(360,) (1544,) (360, 1544)\n",
      "(56,)\n"
     ]
    },
    {
     "ename": "ValueError",
     "evalue": "NumPy boolean array indexing assignment cannot assign 56 input values to the 7131 output values where the mask is true",
     "output_type": "error",
     "traceback": [
      "\u001b[0;31m---------------------------------------------------------------------------\u001b[0m",
      "\u001b[0;31mValueError\u001b[0m                                Traceback (most recent call last)",
      "\u001b[0;32m<ipython-input-81-92eefb83d2d3>\u001b[0m in \u001b[0;36m<module>\u001b[0;34m()\u001b[0m\n\u001b[1;32m     16\u001b[0m     \u001b[0mJ\u001b[0m \u001b[0;34m=\u001b[0m \u001b[0mnp\u001b[0m\u001b[0;34m.\u001b[0m\u001b[0mfloor\u001b[0m\u001b[0;34m(\u001b[0m\u001b[0;34m(\u001b[0m\u001b[0;34m(\u001b[0m\u001b[0mgridR\u001b[0m\u001b[0;34m[\u001b[0m\u001b[0mnp\u001b[0m\u001b[0;34m.\u001b[0m\u001b[0mabs\u001b[0m\u001b[0;34m(\u001b[0m\u001b[0mgridA\u001b[0m \u001b[0;34m-\u001b[0m \u001b[0mazimuthVector\u001b[0m\u001b[0;34m[\u001b[0m\u001b[0ma\u001b[0m\u001b[0;34m]\u001b[0m\u001b[0;34m)\u001b[0m \u001b[0;34m<\u001b[0m \u001b[0;36m1.0\u001b[0m\u001b[0;34m]\u001b[0m \u001b[0;34m-\u001b[0m \u001b[0mstartRange\u001b[0m\u001b[0;34m)\u001b[0m\u001b[0;34m/\u001b[0m\u001b[0mgateWidth\u001b[0m \u001b[0;34m)\u001b[0m\u001b[0;34m)\u001b[0m\u001b[0;34m\u001b[0m\u001b[0m\n\u001b[1;32m     17\u001b[0m     \u001b[0;32mprint\u001b[0m \u001b[0mZ\u001b[0m\u001b[0;34m[\u001b[0m\u001b[0mtuple\u001b[0m\u001b[0;34m(\u001b[0m\u001b[0mJ\u001b[0m\u001b[0;34m)\u001b[0m\u001b[0;34m,\u001b[0m\u001b[0ma\u001b[0m\u001b[0;34m]\u001b[0m\u001b[0;34m.\u001b[0m\u001b[0mshape\u001b[0m\u001b[0;34m\u001b[0m\u001b[0m\n\u001b[0;32m---> 18\u001b[0;31m     \u001b[0mgridZ\u001b[0m\u001b[0;34m[\u001b[0m\u001b[0mI\u001b[0m\u001b[0;34m]\u001b[0m \u001b[0;34m=\u001b[0m \u001b[0mZ\u001b[0m\u001b[0;34m[\u001b[0m\u001b[0mtuple\u001b[0m\u001b[0;34m(\u001b[0m\u001b[0mJ\u001b[0m\u001b[0;34m)\u001b[0m\u001b[0;34m,\u001b[0m\u001b[0ma\u001b[0m\u001b[0;34m]\u001b[0m\u001b[0;34m\u001b[0m\u001b[0m\n\u001b[0m\u001b[1;32m     19\u001b[0m \u001b[0;34m\u001b[0m\u001b[0m\n\u001b[1;32m     20\u001b[0m \u001b[0;34m\u001b[0m\u001b[0m\n",
      "\u001b[0;31mValueError\u001b[0m: NumPy boolean array indexing assignment cannot assign 56 input values to the 7131 output values where the mask is true"
     ]
    }
   ],
   "source": [
    "\n",
    "\n",
    "print azimuthVector.shape,rangeVector.shape,Z.shape\n",
    "\n",
    "startRange = rangeVector[0]\n",
    "gateWidth = np.median(np.diff(rangeVector))\n",
    "startRange = startRange /1000.0\n",
    "gateWidth = gateWidth / 1000.0\n",
    "\n",
    "Z = Z\n",
    "for a in range(azimuthVector.shape[0]):\n",
    "    I = np.less(gridA - azimuthVector[a],1.0)\n",
    "    J = np.floor(((gridR[np.abs(gridA - azimuthVector[a]) < 1.0] - startRange)/gateWidth ))\n",
    "    print Z[tuple(J),a].shape\n",
    "    gridZ[I] = Z[a,tuple(J)]\n",
    "\n",
    "\n",
    "gridZ[gridZ < 30.0] = np.nan\n",
    "print gridZ.shape"
   ]
  },
  {
   "cell_type": "code",
   "execution_count": null,
   "metadata": {
    "collapsed": true
   },
   "outputs": [],
   "source": [
    "from matplotlib import pyplot as plt\n",
    "plt.pcolor(gridX,gridY,gridZ,cmap='jet', vmin=10, vmax=60)"
   ]
  },
  {
   "cell_type": "code",
   "execution_count": 55,
   "metadata": {
    "collapsed": false
   },
   "outputs": [
    {
     "data": {
      "text/plain": [
       "(360, 1544)"
      ]
     },
     "execution_count": 55,
     "metadata": {},
     "output_type": "execute_result"
    }
   ],
   "source": [
    "level_2_products.variables['Reflectivity'][0,:].shape "
   ]
  },
  {
   "cell_type": "code",
   "execution_count": null,
   "metadata": {
    "collapsed": true
   },
   "outputs": [],
   "source": []
  },
  {
   "cell_type": "code",
   "execution_count": 50,
   "metadata": {
    "collapsed": false
   },
   "outputs": [
    {
     "data": {
      "text/plain": [
       "(360, 230)"
      ]
     },
     "execution_count": 50,
     "metadata": {},
     "output_type": "execute_result"
    }
   ],
   "source": [
    "level_3_products.variables['BaseReflectivity'][:].shape"
   ]
  },
  {
   "cell_type": "code",
   "execution_count": 60,
   "metadata": {
    "collapsed": false
   },
   "outputs": [
    {
     "data": {
      "text/plain": [
       "array([      0.,     999.,    1998.,    2997.,    3996.,    4995.,\n",
       "          5994.,    6993.,    7992.,    8991.,    9990.,   10989.,\n",
       "         11988.,   12987.,   13986.,   14985.,   15984.,   16983.,\n",
       "         17982.,   18981.,   19980.,   20979.,   21978.,   22977.,\n",
       "         23976.,   24975.,   25974.,   26973.,   27972.,   28971.,\n",
       "         29970.,   30969.,   31968.,   32967.,   33966.,   34965.,\n",
       "         35964.,   36963.,   37962.,   38961.,   39960.,   40959.,\n",
       "         41958.,   42957.,   43956.,   44955.,   45954.,   46953.,\n",
       "         47952.,   48951.,   49950.,   50949.,   51948.,   52947.,\n",
       "         53946.,   54945.,   55944.,   56943.,   57942.,   58941.,\n",
       "         59940.,   60939.,   61938.,   62937.,   63936.,   64935.,\n",
       "         65934.,   66933.,   67932.,   68931.,   69930.,   70929.,\n",
       "         71928.,   72927.,   73926.,   74925.,   75924.,   76923.,\n",
       "         77922.,   78921.,   79920.,   80919.,   81918.,   82917.,\n",
       "         83916.,   84915.,   85914.,   86913.,   87912.,   88911.,\n",
       "         89910.,   90909.,   91908.,   92907.,   93906.,   94905.,\n",
       "         95904.,   96903.,   97902.,   98901.,   99900.,  100899.,\n",
       "        101898.,  102897.,  103896.,  104895.,  105894.,  106893.,\n",
       "        107892.,  108891.,  109890.,  110889.,  111888.,  112887.,\n",
       "        113886.,  114885.,  115884.,  116883.,  117882.,  118881.,\n",
       "        119880.,  120879.,  121878.,  122877.,  123876.,  124875.,\n",
       "        125874.,  126873.,  127872.,  128871.,  129870.,  130869.,\n",
       "        131868.,  132867.,  133866.,  134865.,  135864.,  136863.,\n",
       "        137862.,  138861.,  139860.,  140859.,  141858.,  142857.,\n",
       "        143856.,  144855.,  145854.,  146853.,  147852.,  148851.,\n",
       "        149850.,  150849.,  151848.,  152847.,  153846.,  154845.,\n",
       "        155844.,  156843.,  157842.,  158841.,  159840.,  160839.,\n",
       "        161838.,  162837.,  163836.,  164835.,  165834.,  166833.,\n",
       "        167832.,  168831.,  169830.,  170829.,  171828.,  172827.,\n",
       "        173826.,  174825.,  175824.,  176823.,  177822.,  178821.,\n",
       "        179820.,  180819.,  181818.,  182817.,  183816.,  184815.,\n",
       "        185814.,  186813.,  187812.,  188811.,  189810.,  190809.,\n",
       "        191808.,  192807.,  193806.,  194805.,  195804.,  196803.,\n",
       "        197802.,  198801.,  199800.,  200799.,  201798.,  202797.,\n",
       "        203796.,  204795.,  205794.,  206793.,  207792.,  208791.,\n",
       "        209790.,  210789.,  211788.,  212787.,  213786.,  214785.,\n",
       "        215784.,  216783.,  217782.,  218781.,  219780.,  220779.,\n",
       "        221778.,  222777.,  223776.,  224775.,  225774.,  226773.,\n",
       "        227772.,  228771.], dtype=float32)"
      ]
     },
     "execution_count": 60,
     "metadata": {},
     "output_type": "execute_result"
    }
   ],
   "source": [
    "level_3_products.variables['gate'][:]"
   ]
  }
 ],
 "metadata": {
  "kernelspec": {
   "display_name": "Python 2",
   "language": "python",
   "name": "python2"
  },
  "language_info": {
   "codemirror_mode": {
    "name": "ipython",
    "version": 2
   },
   "file_extension": ".py",
   "mimetype": "text/x-python",
   "name": "python",
   "nbconvert_exporter": "python",
   "pygments_lexer": "ipython2",
   "version": "2.7.10"
  }
 },
 "nbformat": 4,
 "nbformat_minor": 0
}
